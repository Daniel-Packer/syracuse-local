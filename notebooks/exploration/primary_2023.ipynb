{
 "cells": [
  {
   "cell_type": "code",
   "execution_count": 1,
   "metadata": {},
   "outputs": [
    {
     "name": "stdout",
     "output_type": "stream",
     "text": [
      "/home/daniel/Documents/syracuse-local/notebooks\n",
      "/home/daniel/Documents/syracuse-local\n"
     ]
    }
   ],
   "source": [
    "%load_ext autoreload\n",
    "%autoreload 2\n",
    "%cd ..\n",
    "%cd .."
   ]
  },
  {
   "cell_type": "code",
   "execution_count": 2,
   "metadata": {},
   "outputs": [],
   "source": [
    "from pathlib import Path\n",
    "import pandas as pd\n",
    "import numpy as np\n",
    "root_path = Path(\"\")\n",
    "data_path = root_path / \"data\""
   ]
  },
  {
   "cell_type": "code",
   "execution_count": 11,
   "metadata": {},
   "outputs": [],
   "source": [
    "ny_chunks = []\n",
    "with pd.read_csv(data_path / \"2020-STATE_precinct_general.csv\", chunksize=1000) as reader:\n",
    "  for chunk in reader:\n",
    "    ny_chunks.append(chunk.query(\"state_po == 'NY'\"))"
   ]
  },
  {
   "cell_type": "code",
   "execution_count": 15,
   "metadata": {},
   "outputs": [],
   "source": [
    "ny_df = pd.concat(ny_chunks)\n",
    "ny_df.to_csv(data_path / \"2020-NY_precinct_general.csv\")"
   ]
  }
 ],
 "metadata": {
  "kernelspec": {
   "display_name": "pystats",
   "language": "python",
   "name": "python3"
  },
  "language_info": {
   "codemirror_mode": {
    "name": "ipython",
    "version": 3
   },
   "file_extension": ".py",
   "mimetype": "text/x-python",
   "name": "python",
   "nbconvert_exporter": "python",
   "pygments_lexer": "ipython3",
   "version": "3.11.3"
  }
 },
 "nbformat": 4,
 "nbformat_minor": 2
}
